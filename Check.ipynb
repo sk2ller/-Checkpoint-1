{
 "cells": [
  {
   "cell_type": "code",
   "execution_count": 3,
   "id": "b65609c6",
   "metadata": {},
   "outputs": [
    {
     "name": "stdout",
     "output_type": "stream",
     "text": [
      "Input your First Name : mohamed\n",
      "Input your Last Name : maalej\n",
      "maalej mohamed\n"
     ]
    }
   ],
   "source": [
    "#Ex1\n",
    "first_name = input(\"Input your First Name : \")\n",
    "last_name = input(\"Input your Last Name : \")\n",
    "print (last_name + \" \" + first_name)"
   ]
  },
  {
   "cell_type": "code",
   "execution_count": 4,
   "id": "66538430",
   "metadata": {},
   "outputs": [
    {
     "name": "stdout",
     "output_type": "stream",
     "text": [
      "Enter a number n: 5\n",
      "The value is: 615\n"
     ]
    }
   ],
   "source": [
    "#Ex2\n",
    "n=int(input(\"Enter a number n: \"))\n",
    "num=str(n)\n",
    "n1=num+num\n",
    "n2=num+num+numt(n1)+int(n2)\n",
    "print(\"The value\n",
    "total=n+in is:\",total)"
   ]
  },
  {
   "cell_type": "code",
   "execution_count": 2,
   "id": "16a32194",
   "metadata": {},
   "outputs": [
    {
     "name": "stdout",
     "output_type": "stream",
     "text": [
      "Enter a number: 5\n",
      "This is an odd number.\n"
     ]
    }
   ],
   "source": [
    "#Ex3\n",
    "first_num = int(input(\"Enter a number: \"))\n",
    "second_number = first_num % 2\n",
    "if second_number > 0:\n",
    "    print(\"This is an odd number.\")\n",
    "else:\n",
    "    print(\"This is an even number.\")\n"
   ]
  },
  {
   "cell_type": "code",
   "execution_count": 3,
   "id": "c06bf335",
   "metadata": {
    "scrolled": true
   },
   "outputs": [
    {
     "name": "stdout",
     "output_type": "stream",
     "text": [
      "Enter a number: 2\n",
      "This is an even number.\n"
     ]
    }
   ],
   "source": [
    "#Ex3\n",
    "first_num = int(input(\"Enter a number: \"))\n",
    "second_number = first_num % 2\n",
    "if second_number > 0:\n",
    "    print(\"This is an odd number.\")\n",
    "else:\n",
    "    print(\"This is an even number.\")"
   ]
  },
  {
   "cell_type": "code",
   "execution_count": 3,
   "id": "30eeae43",
   "metadata": {},
   "outputs": [
    {
     "name": "stdout",
     "output_type": "stream",
     "text": [
      "2002,2009,2016,2023,2037,2044,2051,2058,2072,2079,2086,2093,2107,2114,2121,2128,2142,2149,2156,2163,2177,2184,2191,2198,2212,2219,2226,2233,2247,2254,2261,2268,2282,2289,2296,2303,2317,2324,2331,2338,2352,2359,2366,2373,2387,2394,2401,2408,2422,2429,2436,2443,2457,2464,2471,2478,2492,2499,2506,2513,2527,2534,2541,2548,2562,2569,2576,2583,2597,2604,2611,2618,2632,2639,2646,2653,2667,2674,2681,2688,2702,2709,2716,2723,2737,2744,2751,2758,2772,2779,2786,2793,2807,2814,2821,2828,2842,2849,2856,2863,2877,2884,2891,2898,2912,2919,2926,2933,2947,2954,2961,2968,2982,2989,2996,3003,3017,3024,3031,3038,3052,3059,3066,3073,3087,3094,3101,3108,3122,3129,3136,3143,3157,3164,3171,3178,3192,3199,"
     ]
    }
   ],
   "source": [
    "#Ex4\n",
    "for i in range(2000, 3201):\n",
    "    if i % 7 == 0 and i % 5 != 0:\n",
    "        print(i, end=\",\")"
   ]
  },
  {
   "cell_type": "code",
   "execution_count": 4,
   "id": "5d74fffa",
   "metadata": {},
   "outputs": [
    {
     "name": "stdout",
     "output_type": "stream",
     "text": [
      "Enter a number: 8\n",
      "Factorial of 8 is 40320\n"
     ]
    }
   ],
   "source": [
    "#Ex5\n",
    "def factorial(n): \n",
    "    if n == 0:\n",
    "        return 1\n",
    "    return n * factorial(n-1)\n",
    "num = int(input(\"Enter a number: \"));\n",
    "print(\"Factorial of\", num, \"is\",\n",
    "factorial(num))"
   ]
  },
  {
   "cell_type": "code",
   "execution_count": 5,
   "id": "0ac170d0",
   "metadata": {},
   "outputs": [
    {
     "name": "stdout",
     "output_type": "stream",
     "text": [
      "Enter here: hello team\n",
      "hlota\n"
     ]
    }
   ],
   "source": [
    "#Ex6\n",
    "def odd_values_string(str):\n",
    "  result = \"\" \n",
    "  for i in range(len(str)):\n",
    "    if i % 2 == 0:\n",
    "      result = result + str[i]\n",
    "  return result\n",
    "print(odd_values_string(input(\"Enter here: \")))"
   ]
  },
  {
   "cell_type": "code",
   "execution_count": 1,
   "id": "e3ae4fde",
   "metadata": {},
   "outputs": [
    {
     "name": "stdout",
     "output_type": "stream",
     "text": [
      "Insert the price: 500\n",
      "the new price is  250.0\n"
     ]
    }
   ],
   "source": [
    "#Ex7\n",
    "price= int(input(\"Insert the price: \"))\n",
    "newPrice=0\n",
    "if price>=500:\n",
    "  newPrice= price-(price/2)\n",
    "elif price>=200 and price<=500:\n",
    "  newPrice= price-((price/100)*30)\n",
    "else:\n",
    "  newPrice= price-(price/10)\n",
    "print(\"the new price is \",newPrice)"
   ]
  },
  {
   "cell_type": "code",
   "execution_count": null,
   "id": "006e67a6",
   "metadata": {},
   "outputs": [],
   "source": []
  }
 ],
 "metadata": {
  "kernelspec": {
   "display_name": "Python 3",
   "language": "python",
   "name": "python3"
  },
  "language_info": {
   "codemirror_mode": {
    "name": "ipython",
    "version": 3
   },
   "file_extension": ".py",
   "mimetype": "text/x-python",
   "name": "python",
   "nbconvert_exporter": "python",
   "pygments_lexer": "ipython3",
   "version": "3.8.8"
  }
 },
 "nbformat": 4,
 "nbformat_minor": 5
}
